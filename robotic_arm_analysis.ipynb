{
 "cells": [
  {
   "cell_type": "markdown",
   "metadata": {},
   "source": [
    "## Final Notebook Structure"
   ]
  },
  {
   "cell_type": "markdown",
   "metadata": {},
   "source": [
    "## 🚀 Task 8: Comparing Validation Methods"
   ]
  },
  {
   "cell_type": "code",
   "execution_count": 6,
   "metadata": {},
   "outputs": [],
   "source": [
    "import pandas as pd\n",
    "import numpy as np\n",
    "import matplotlib.pyplot as plt\n",
    "import seaborn as sns\n",
    "\n",
    "from sklearn.model_selection import train_test_split, KFold, LeaveOneOut, StratifiedShuffleSplit, cross_val_score\n",
    "from sklearn.ensemble import RandomForestClassifier\n",
    "from sklearn.preprocessing import OneHotEncoder, LabelEncoder\n",
    "from sklearn.feature_extraction.text import TfidfVectorizer\n",
    "from sklearn.metrics import accuracy_score"
   ]
  },
  {
   "cell_type": "code",
   "execution_count": 10,
   "metadata": {},
   "outputs": [
    {
     "data": {
      "text/html": [
       "<div>\n",
       "<style scoped>\n",
       "    .dataframe tbody tr th:only-of-type {\n",
       "        vertical-align: middle;\n",
       "    }\n",
       "\n",
       "    .dataframe tbody tr th {\n",
       "        vertical-align: top;\n",
       "    }\n",
       "\n",
       "    .dataframe thead th {\n",
       "        text-align: right;\n",
       "    }\n",
       "</style>\n",
       "<table border=\"1\" class=\"dataframe\">\n",
       "  <thead>\n",
       "    <tr style=\"text-align: right;\">\n",
       "      <th></th>\n",
       "      <th>name</th>\n",
       "      <th>time</th>\n",
       "      <th>accX</th>\n",
       "      <th>accY</th>\n",
       "      <th>accZ</th>\n",
       "      <th>gyroX</th>\n",
       "      <th>gyroY</th>\n",
       "      <th>gyroZ</th>\n",
       "      <th>magX</th>\n",
       "      <th>magY</th>\n",
       "      <th>magZ</th>\n",
       "      <th>Anomaly</th>\n",
       "    </tr>\n",
       "  </thead>\n",
       "  <tbody>\n",
       "    <tr>\n",
       "      <th>0</th>\n",
       "      <td>IMU6</td>\n",
       "      <td>1684409298607000000</td>\n",
       "      <td>9.777920</td>\n",
       "      <td>0.248997</td>\n",
       "      <td>0.275333</td>\n",
       "      <td>0.0</td>\n",
       "      <td>-0.0625</td>\n",
       "      <td>0.0</td>\n",
       "      <td>0.000000</td>\n",
       "      <td>0.00</td>\n",
       "      <td>0.000000</td>\n",
       "      <td>0</td>\n",
       "    </tr>\n",
       "    <tr>\n",
       "      <th>1</th>\n",
       "      <td>IMU6</td>\n",
       "      <td>1684409298704000000</td>\n",
       "      <td>9.780313</td>\n",
       "      <td>0.241814</td>\n",
       "      <td>0.277727</td>\n",
       "      <td>0.0</td>\n",
       "      <td>0.0000</td>\n",
       "      <td>0.0</td>\n",
       "      <td>0.000000</td>\n",
       "      <td>0.00</td>\n",
       "      <td>0.000000</td>\n",
       "      <td>0</td>\n",
       "    </tr>\n",
       "    <tr>\n",
       "      <th>2</th>\n",
       "      <td>IMU6</td>\n",
       "      <td>1684409298750000000</td>\n",
       "      <td>9.777920</td>\n",
       "      <td>0.239420</td>\n",
       "      <td>0.275333</td>\n",
       "      <td>0.0</td>\n",
       "      <td>0.0000</td>\n",
       "      <td>0.0</td>\n",
       "      <td>-48.080002</td>\n",
       "      <td>-6.76</td>\n",
       "      <td>-15.615385</td>\n",
       "      <td>0</td>\n",
       "    </tr>\n",
       "    <tr>\n",
       "      <th>3</th>\n",
       "      <td>IMU6</td>\n",
       "      <td>1684409298800000000</td>\n",
       "      <td>9.782708</td>\n",
       "      <td>0.239420</td>\n",
       "      <td>0.277727</td>\n",
       "      <td>0.0</td>\n",
       "      <td>0.0000</td>\n",
       "      <td>0.0</td>\n",
       "      <td>-48.200001</td>\n",
       "      <td>-6.76</td>\n",
       "      <td>-15.769231</td>\n",
       "      <td>0</td>\n",
       "    </tr>\n",
       "    <tr>\n",
       "      <th>4</th>\n",
       "      <td>IMU6</td>\n",
       "      <td>1684409298848000000</td>\n",
       "      <td>9.785102</td>\n",
       "      <td>0.244209</td>\n",
       "      <td>0.275333</td>\n",
       "      <td>0.0</td>\n",
       "      <td>0.0000</td>\n",
       "      <td>0.0</td>\n",
       "      <td>-48.320000</td>\n",
       "      <td>-6.72</td>\n",
       "      <td>-16.000000</td>\n",
       "      <td>0</td>\n",
       "    </tr>\n",
       "  </tbody>\n",
       "</table>\n",
       "</div>"
      ],
      "text/plain": [
       "   name                 time      accX      accY      accZ  gyroX   gyroY  \\\n",
       "0  IMU6  1684409298607000000  9.777920  0.248997  0.275333    0.0 -0.0625   \n",
       "1  IMU6  1684409298704000000  9.780313  0.241814  0.277727    0.0  0.0000   \n",
       "2  IMU6  1684409298750000000  9.777920  0.239420  0.275333    0.0  0.0000   \n",
       "3  IMU6  1684409298800000000  9.782708  0.239420  0.277727    0.0  0.0000   \n",
       "4  IMU6  1684409298848000000  9.785102  0.244209  0.275333    0.0  0.0000   \n",
       "\n",
       "   gyroZ       magX  magY       magZ  Anomaly  \n",
       "0    0.0   0.000000  0.00   0.000000        0  \n",
       "1    0.0   0.000000  0.00   0.000000        0  \n",
       "2    0.0 -48.080002 -6.76 -15.615385        0  \n",
       "3    0.0 -48.200001 -6.76 -15.769231        0  \n",
       "4    0.0 -48.320000 -6.72 -16.000000        0  "
      ]
     },
     "execution_count": 10,
     "metadata": {},
     "output_type": "execute_result"
    }
   ],
   "source": [
    "# Load dataset files\n",
    "df_normal = pd.read_csv(\"IMU_20Hz_freq_drop.csv\")  # Normal data\n",
    "df_anomaly_earthquake = pd.read_csv(\"IMU_earthquake.csv\")  # Earthquake anomaly\n",
    "df_anomaly_hitting = pd.read_csv(\"IMU_hitting_arm.csv\")  # Collision anomaly\n",
    "\n",
    "# Add labels\n",
    "df_normal[\"Anomaly\"] = 0\n",
    "df_anomaly_earthquake[\"Anomaly\"] = 1\n",
    "df_anomaly_hitting[\"Anomaly\"] = 1\n",
    "\n",
    "# Combine datasets\n",
    "df = pd.concat([df_normal, df_anomaly_earthquake, df_anomaly_hitting])\n",
    "\n",
    "# Preview data\n",
    "df.head()"
   ]
  },
  {
   "cell_type": "code",
   "execution_count": null,
   "metadata": {},
   "outputs": [
    {
     "name": "stdout",
     "output_type": "stream",
     "text": [
      "   gyroX   gyroY  gyroZ      accX      accY      accZ  Anomaly\n",
      "0    0.0 -0.0625    0.0  9.777920  0.248997  0.275333        0\n",
      "1    0.0  0.0000    0.0  9.780313  0.241814  0.277727        0\n",
      "2    0.0  0.0000    0.0  9.777920  0.239420  0.275333        0\n",
      "3    0.0  0.0000    0.0  9.782708  0.239420  0.277727        0\n",
      "4    0.0  0.0000    0.0  9.785102  0.244209  0.275333        0\n"
     ]
    }
   ],
   "source": [
    "# Select features (correct column names)\n",
    "df = df[['gyroX', 'gyroY', 'gyroZ',  # Gyroscope readings\n",
    "         'accX', 'accY', 'accZ',     # Acceleration readings\n",
    "         'Anomaly']]                 # Target variable\n",
    "\n",
    "# Split features and target\n",
    "X = df.drop(columns=['Anomaly'])  # Features\n",
    "y = df['Anomaly']                 # Target variable\n",
    "\n",
    "# Verify the dataset structure\n",
    "print(df.head())  # Display first few rows"
   ]
  },
  {
   "cell_type": "code",
   "execution_count": 13,
   "metadata": {},
   "outputs": [
    {
     "name": "stdout",
     "output_type": "stream",
     "text": [
      "Training Features Shape: (880284, 6)\n",
      "Training Labels Shape: (880284,)\n",
      "Testing Features Shape: (220071, 6)\n",
      "Testing Labels Shape: (220071,)\n"
     ]
    }
   ],
   "source": [
    "from sklearn.model_selection import train_test_split\n",
    "\n",
    "# Split data into 80% training and 20% testing\n",
    "X_train, X_test, y_train, y_test = train_test_split(X, y, test_size=0.2, random_state=42, stratify=y)\n",
    "\n",
    "# Check the shape of the datasets\n",
    "print(\"Training Features Shape:\", X_train.shape)\n",
    "print(\"Training Labels Shape:\", y_train.shape)\n",
    "print(\"Testing Features Shape:\", X_test.shape)\n",
    "print(\"Testing Labels Shape:\", y_test.shape)"
   ]
  },
  {
   "cell_type": "code",
   "execution_count": 14,
   "metadata": {},
   "outputs": [
    {
     "ename": "NameError",
     "evalue": "name 'model' is not defined",
     "output_type": "error",
     "traceback": [
      "\u001b[1;31m---------------------------------------------------------------------------\u001b[0m",
      "\u001b[1;31mNameError\u001b[0m                                 Traceback (most recent call last)",
      "Cell \u001b[1;32mIn[14], line 2\u001b[0m\n\u001b[0;32m      1\u001b[0m kf \u001b[38;5;241m=\u001b[39m KFold(n_splits\u001b[38;5;241m=\u001b[39m\u001b[38;5;241m5\u001b[39m, shuffle\u001b[38;5;241m=\u001b[39m\u001b[38;5;28;01mTrue\u001b[39;00m, random_state\u001b[38;5;241m=\u001b[39m\u001b[38;5;241m42\u001b[39m)\n\u001b[1;32m----> 2\u001b[0m cv_scores \u001b[38;5;241m=\u001b[39m cross_val_score(model, X, y, cv\u001b[38;5;241m=\u001b[39mkf, scoring\u001b[38;5;241m=\u001b[39m\u001b[38;5;124m\"\u001b[39m\u001b[38;5;124maccuracy\u001b[39m\u001b[38;5;124m\"\u001b[39m)\n\u001b[0;32m      4\u001b[0m \u001b[38;5;28mprint\u001b[39m(\u001b[38;5;124mf\u001b[39m\u001b[38;5;124m\"\u001b[39m\u001b[38;5;124mK-Fold CV Mean Accuracy: \u001b[39m\u001b[38;5;132;01m{\u001b[39;00mnp\u001b[38;5;241m.\u001b[39mmean(cv_scores)\u001b[38;5;132;01m:\u001b[39;00m\u001b[38;5;124m.4f\u001b[39m\u001b[38;5;132;01m}\u001b[39;00m\u001b[38;5;124m\"\u001b[39m)\n",
      "\u001b[1;31mNameError\u001b[0m: name 'model' is not defined"
     ]
    }
   ],
   "source": [
    "kf = KFold(n_splits=5, shuffle=True, random_state=42)\n",
    "cv_scores = cross_val_score(model, X, y, cv=kf, scoring=\"accuracy\")\n",
    "\n",
    "print(f\"K-Fold CV Mean Accuracy: {np.mean(cv_scores):.4f}\")\n"
   ]
  },
  {
   "cell_type": "code",
   "execution_count": null,
   "metadata": {},
   "outputs": [],
   "source": []
  }
 ],
 "metadata": {
  "kernelspec": {
   "display_name": "base",
   "language": "python",
   "name": "python3"
  },
  "language_info": {
   "codemirror_mode": {
    "name": "ipython",
    "version": 3
   },
   "file_extension": ".py",
   "mimetype": "text/x-python",
   "name": "python",
   "nbconvert_exporter": "python",
   "pygments_lexer": "ipython3",
   "version": "3.12.7"
  }
 },
 "nbformat": 4,
 "nbformat_minor": 2
}
